{
  "cells": [
    {
      "cell_type": "code",
      "execution_count": 1,
      "metadata": {
        "colab": {
          "base_uri": "https://localhost:8080/"
        },
        "id": "UwZJxKToWeG_",
        "outputId": "b08bd0c6-ec54-4bb1-effb-a4d3a851734c"
      },
      "outputs": [
        {
          "name": "stdout",
          "output_type": "stream",
          "text": [
            "Cloning into 'Trabalho2_Reci'...\n",
            "remote: Enumerating objects: 479, done.\u001b[K\n",
            "remote: Total 479 (delta 0), reused 0 (delta 0), pack-reused 479\u001b[K\n",
            "Receiving objects: 100% (479/479), 1.37 GiB | 41.24 MiB/s, done.\n",
            "Resolving deltas: 100% (10/10), done.\n",
            "Checking out files: 100% (500/500), done.\n"
          ]
        }
      ],
      "source": [
        "!git clone https://github.com/andrecella/Trabalho2_Reci.git"
      ]
    },
    {
      "cell_type": "code",
      "execution_count": null,
      "metadata": {
        "id": "VJaJJb7WW1ce"
      },
      "outputs": [],
      "source": [
        "from tensorflow.keras.layers import BatchNormalization\n",
        "from keras.models import Sequential\n",
        "from keras.layers import Conv2D, MaxPooling2D, Flatten, Dense, Dropout\n",
        "#from keras.layers.normalization import BatchNormalization\n",
        "from keras.preprocessing.image import ImageDataGenerator\n",
        "import numpy as np\n",
        "from keras.preprocessing import image\n",
        "import os\n",
        "import glob"
      ]
    },
    {
      "cell_type": "code",
      "execution_count": null,
      "metadata": {
        "colab": {
          "base_uri": "https://localhost:8080/"
        },
        "id": "zKWBQsKGeyfr",
        "outputId": "eb962d21-916d-4125-84b7-0f5157020400"
      },
      "outputs": [
        {
          "name": "stdout",
          "output_type": "stream",
          "text": [
            "label: \"Papelao\":\t 14\n",
            "label: \"Metal\":\t 22\n",
            "label: \"Organico\":\t 3\n",
            "label: \"Papel\":\t 6\n",
            "label: \"Plastico\":\t 40\n"
          ]
        }
      ],
      "source": [
        "path = '/content/Trabalho2_Reci/Dataset-Cleaned' \n",
        "\n",
        "data = os.path.join('/content/Trabalho2_Reci/Dataset-Cleaned')\n",
        "labels = ['Papelao', 'Metal', 'Organico', 'Papel', 'Plastico']\n",
        "\n",
        "for label in labels:\n",
        "    directory = os.path.join(data, label)\n",
        "    print(\"label: \\\"\" + label + \"\\\":\\t\", len(os.listdir(directory)))"
      ]
    },
    {
      "cell_type": "code",
      "execution_count": null,
      "metadata": {
        "id": "QjKfBO9rp67h"
      },
      "outputs": [
        {
          "ename": "",
          "evalue": "",
          "output_type": "error",
          "traceback": [
            "\u001b[1;31mThe kernel failed to start due to the missing module 'natsort'. Consider installing this module.\n",
            "Click <a href='https://aka.ms/kernelFailuresMissingModule'>here</a> for more info."
          ]
        }
      ],
      "source": [
        "import os\n",
        "from natsort import natsorted"
      ]
    },
    {
      "cell_type": "code",
      "execution_count": null,
      "metadata": {
        "id": "p2gteINaqM6V"
      },
      "outputs": [],
      "source": [
        "path=('C:\\Andre\\7ºSemestre\\3-VISÃO COMPUTACIONAL\\14º Aula 14-06-2022\\Trabalho_garrafas\\data\\B_100cl')\n",
        "os.chdir(path)\n",
        "for i in sorted(os.listdir(path)):\n",
        " print (i)"
      ]
    },
    {
      "cell_type": "code",
      "execution_count": 23,
      "metadata": {
        "id": "9fpTxZ36q1ym"
      },
      "outputs": [],
      "source": [
        "def rename_files(path, new_name, extension):\n",
        "\n",
        "    os.chdir(path)\n",
        "\n",
        "    for (i, filename) in enumerate(natsorted(os.listdir(path))):\n",
        "      print (filename)\n",
        "      os.rename(src=filename, dst='{}{}{}'.format(new_name,i,extension))"
      ]
    },
    {
      "cell_type": "code",
      "execution_count": null,
      "metadata": {
        "id": "ln-I40yctF1Y"
      },
      "outputs": [],
      "source": [
        "rename_files()"
      ]
    }
  ],
  "metadata": {
    "colab": {
      "collapsed_sections": [],
      "name": "Trabalho2.ipynb",
      "provenance": []
    },
    "kernelspec": {
      "display_name": "Python 3.10.2 64-bit",
      "language": "python",
      "name": "python3"
    },
    "language_info": {
      "name": "python",
      "version": "3.10.2"
    },
    "vscode": {
      "interpreter": {
        "hash": "ea928f5d67c4c93314bde902f9925b00b35f33a7a7fd46f2f8b2a0108e4de065"
      }
    }
  },
  "nbformat": 4,
  "nbformat_minor": 0
}
